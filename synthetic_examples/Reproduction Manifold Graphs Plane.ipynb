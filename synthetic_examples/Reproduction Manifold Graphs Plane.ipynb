{
 "cells": [
  {
   "cell_type": "code",
   "execution_count": 1,
   "metadata": {},
   "outputs": [
    {
     "name": "stdout",
     "output_type": "stream",
     "text": [
      "env: CUDA_VISIBLE_DEVICES=1\n"
     ]
    }
   ],
   "source": [
    "%load_ext autoreload\n",
    "%env CUDA_VISIBLE_DEVICES=1\n",
    "import sys\n",
    "sys.path.append('..')"
   ]
  },
  {
   "cell_type": "code",
   "execution_count": 2,
   "metadata": {},
   "outputs": [],
   "source": [
    "%autoreload\n",
    "from graph_augmented_pt.utils.tensorboard_utils import *\n",
    "\n",
    "from graphlet_atlas import *\n",
    "from synthetic_datasets import *\n",
    "from synthetic_runner import *\n",
    "from simplicial_manfiolds import *\n",
    "\n",
    "import matplotlib, pandas as pd\n",
    "pd.options.mode.chained_assignment = None \n",
    "%matplotlib inline\n",
    "\n",
    "from collections import Counter, defaultdict\n",
    "import copy, itertools, json, logging, math, os, pickle, scipy, shutil, time, traceback, numpy as np\n",
    "from tqdm.notebook import tqdm\n",
    "from scipy.stats import spearmanr\n",
    "\n",
    "from pathlib import Path"
   ]
  },
  {
   "cell_type": "code",
   "execution_count": 3,
   "metadata": {},
   "outputs": [],
   "source": [
    "def nCr(n,r):\n",
    "    f = math.factorial\n",
    "    return int(f(n) / f(r) / f(n-r))"
   ]
  },
  {
   "cell_type": "markdown",
   "metadata": {},
   "source": [
    "# Generating Synthetic Data"
   ]
  },
  {
   "cell_type": "code",
   "execution_count": 4,
   "metadata": {},
   "outputs": [],
   "source": [
    "DO_SUBSAMPLE = False\n",
    "\n",
    "RAW_FILEPATH = '/crimea/graph_augmented_pt/synthetic_datasets/wikisent2.txt'\n",
    "PKL_FILEPATH = '/crimea/graph_augmented_pt/synthetic_datasets/wikisent2_feat.pkl'\n",
    "SIMPLEX_ORDER_FILEPATH = '/crimea/graph_augmented_pt/synthetic_datasets/topics_to_try.pkl'\n",
    "TOPIC_CLIQUE_FILEPATH = '/crimea/graph_augmented_pt/synthetic_datasets/topic_clique.json'\n",
    "\n",
    "SUBSAMPLE_FILEPATH_TEXT    = '/crimea/graph_augmented_pt/synthetic_datasets/wikisent2_small.txt'\n",
    "SUBSAMPLE_FILEPATH_DERIVED = '/crimea/graph_augmented_pt/synthetic_datasets/wikisent2_feat_small.pkl'\n",
    "\n",
    "assert os.path.isfile(RAW_FILEPATH) and os.path.isfile(PKL_FILEPATH)\n",
    "assert os.path.isfile(SUBSAMPLE_FILEPATH_TEXT) and os.path.isfile(SUBSAMPLE_FILEPATH_DERIVED)\n",
    "\n",
    "# Source: https://www.kaggle.com/mikeortman/wikipedia-sentences\n",
    "with open(SUBSAMPLE_FILEPATH_TEXT if DO_SUBSAMPLE else RAW_FILEPATH, mode='r') as f: text_data = f.readlines()\n",
    "\n",
    "with open(SUBSAMPLE_FILEPATH_DERIVED if DO_SUBSAMPLE else PKL_FILEPATH, mode='rb') as f:\n",
    "    X, LDA, source_topics, first_topic, sents_by_topic, topic_correlations = pickle.load(f)\n",
    "n_sents_by_topic = {t: len(sents) for t, sents in sents_by_topic.items()}\n",
    "\n",
    "with open(SIMPLEX_ORDER_FILEPATH, mode='rb') as f:\n",
    "    topics_to_try = pickle.load(f)\n",
    "    \n",
    "with open(TOPIC_CLIQUE_FILEPATH, mode='r') as f:\n",
    "    topic_clique_hint = json.loads(f.read())"
   ]
  },
  {
   "cell_type": "markdown",
   "metadata": {},
   "source": [
    "# Preprocessing Sentences"
   ]
  },
  {
   "cell_type": "code",
   "execution_count": 5,
   "metadata": {
    "scrolled": true
   },
   "outputs": [
    {
     "name": "stdout",
     "output_type": "stream",
     "text": [
      "Dropping 2178743 sentences as they lack sufficient probability mass in their top-3.\n",
      "It took 1.3 minutes to do that check & drop.\n",
      "Observe 158547 simplices (of 161700 total possible) in total across 5693082 sentences.\n",
      "It took 0.1 minutes to get the top 3 topics / sent and 0.3 minutes to get the counts.\n",
      "After filtering out insufficiently dense or incomplete simplices, we have 816/248694 simplices / sentences, respectively. This process took 0.3 minutes\n",
      "Normalizing & computing entropy took 0.0 minutes\n"
     ]
    }
   ],
   "source": [
    "valid_topics = copy.deepcopy(topic_clique_hint)\n",
    "topics_cp               = copy.deepcopy(source_topics)\n",
    "topics_cp_edit          = copy.deepcopy(source_topics)\n",
    "sentences_cp            = np.array(copy.deepcopy(text_data))\n",
    "min_sents_per_simplex   = 25\n",
    "topics_thresh           = 2/3\n",
    "\n",
    "assert len(topics_cp) > 0\n",
    "N = len(topics_cp)\n",
    "\n",
    "top_3_st = time.time()\n",
    "first_topics  = np.argmax(topics_cp_edit, axis=1)\n",
    "topics_cp_edit[np.arange(N), first_topics] = 0\n",
    "second_topics = np.argmax(topics_cp_edit, axis=1)\n",
    "topics_cp_edit[np.arange(N), second_topics] = 0\n",
    "third_topics = np.argmax(topics_cp_edit, axis=1)\n",
    "top_3_end = time.time()\n",
    "\n",
    "reindex_st = time.time()\n",
    "top_3 = np.vstack((first_topics, second_topics, third_topics)).T\n",
    "top_3_probs = copy.deepcopy(source_topics[np.arange(N), [first_topics, second_topics, third_topics]].T)\n",
    "\n",
    "obs_probability_mass = top_3_probs.sum(axis=1)\n",
    "assert len(obs_probability_mass) > 0\n",
    "\n",
    "valid_sents_mask = (obs_probability_mass > topics_thresh)\n",
    "valid_sents_idx,  = np.where(valid_sents_mask)\n",
    "\n",
    "topics_cp    = topics_cp[valid_sents_mask]\n",
    "sentences_cp = sentences_cp[valid_sents_mask]\n",
    "top_3        = top_3[valid_sents_mask]\n",
    "top_3_probs  = top_3_probs[valid_sents_mask]\n",
    "assert len(topics_cp) > 0\n",
    "\n",
    "reindex_end = time.time()\n",
    "\n",
    "print(\n",
    "    f\"Dropping {len(source_topics) - len(top_3)} sentences as they lack sufficient probability mass in their top-3.\\n\"\n",
    "    f\"It took {(reindex_end - reindex_st)/60:.1f} minutes to do that check & drop.\"\n",
    ")\n",
    "\n",
    "cnt_assignments_st = time.time()\n",
    "all_observed_topic_simplices = Counter(frozenset(t) for t in top_3)\n",
    "cnt_assignments_end = time.time()\n",
    "\n",
    "print(\n",
    "    f\"Observe {len(all_observed_topic_simplices)} simplices (of {nCr(100, 3)} total possible) \"\n",
    "    f\"in total across {len(topics_cp)} sentences.\\n\"\n",
    "    f\"It took {(top_3_end - top_3_st)/60:.1f} minutes to get the top 3 topics / sent and \"\n",
    "    f\"{(cnt_assignments_end - cnt_assignments_st)/60:.1f} minutes to get the counts.\"\n",
    ")\n",
    "\n",
    "first_filtering_st      = time.time()\n",
    "\n",
    "valid_simplices         = set(\n",
    "    k for k, v in all_observed_topic_simplices.items() \\\n",
    "        if (v >= min_sents_per_simplex) and k.issubset(valid_topics)\n",
    ")\n",
    "assert len(valid_simplices) == nCr(len(valid_topics), 3)\n",
    "\n",
    "sufficiently_dense_mask = [frozenset(row) in valid_simplices for row in top_3]\n",
    "\n",
    "sentences_cp            = sentences_cp[sufficiently_dense_mask]\n",
    "topics_cp               = topics_cp[sufficiently_dense_mask]\n",
    "top_3                   = top_3[sufficiently_dense_mask]\n",
    "top_3_probs             = top_3_probs[sufficiently_dense_mask]\n",
    "valid_sents_idx         = valid_sents_idx[sufficiently_dense_mask]\n",
    "first_filtering_end     = time.time()\n",
    "\n",
    "print(\n",
    "    f\"After filtering out insufficiently dense or incomplete simplices, \"\n",
    "    f\"we have {len(valid_simplices)}/{len(topics_cp)} \"\n",
    "    f\"simplices / sentences, respectively. This process took \"\n",
    "    f\"{(first_filtering_end - first_filtering_st)/60:.1f} minutes\"\n",
    ")\n",
    "\n",
    "normalization_st = time.time()\n",
    "normalized = np.divide(top_3_probs, top_3_probs.sum(axis=1)[:, np.newaxis])\n",
    "entropy    = -(normalized * np.log(normalized)).sum(axis=1)\n",
    "entropy_per_simplex = defaultdict(list)\n",
    "for i, (e, ts) in enumerate(zip(entropy, top_3)): entropy_per_simplex[frozenset(ts)].append(e)\n",
    "    \n",
    "agg_entropy_per_simplex = {\n",
    "    k: (np.min(es), np.max(es), np.histogram(es)) for k, es in entropy_per_simplex.items()\n",
    "}\n",
    "normalization_end = time.time()\n",
    "\n",
    "print(f\"Normalizing & computing entropy took {(normalization_end - normalization_st)/60:.1f} minutes\")"
   ]
  },
  {
   "cell_type": "markdown",
   "metadata": {},
   "source": [
    "# Experiments"
   ]
  },
  {
   "cell_type": "markdown",
   "metadata": {},
   "source": [
    "## Manifolds We'll Study"
   ]
  },
  {
   "cell_type": "markdown",
   "metadata": {},
   "source": [
    "### Two-simplex plane"
   ]
  },
  {
   "cell_type": "code",
   "execution_count": 6,
   "metadata": {},
   "outputs": [
    {
     "name": "stdout",
     "output_type": "stream",
     "text": [
      "Manifold has 2 simplices\n"
     ]
    },
    {
     "data": {
      "image/png": "[encoded data removed]",
      "text/plain": [
       "<Figure size 720x360 with 2 Axes>"
      ]
     },
     "metadata": {},
     "output_type": "display_data"
    }
   ],
   "source": [
    "plane_kwargs = {'simplices': [\n",
    "    (1, 2, 3), (2, 3, 4),\n",
    "]}\n",
    "M_plane = LabeledSimplicialManifold(**plane_kwargs)\n",
    "M_plane.display();"
   ]
  },
  {
   "cell_type": "markdown",
   "metadata": {},
   "source": [
    "## Setup"
   ]
  },
  {
   "cell_type": "code",
   "execution_count": 7,
   "metadata": {},
   "outputs": [
    {
     "data": {
      "application/vnd.jupyter.widget-view+json": {
       "model_id": "",
       "version_major": 2,
       "version_minor": 0
      },
      "text/plain": [
       "HBox(children=(HTML(value='Mapping Simplices'), FloatProgress(value=0.0, max=2.0), HTML(value='')))"
      ]
     },
     "metadata": {},
     "output_type": "display_data"
    },
    {
     "name": "stdout",
     "output_type": "stream",
     "text": [
      "Generating Distances & Graph\n"
     ]
    }
   ],
   "source": [
    "logging.getLogger('lightning').setLevel(logging.ERROR)\n",
    "\n",
    "DO_OVERWRITE       = True\n",
    "gml_head           = EUCLIDEAN_DISTANCE\n",
    "gml_weight = 0.1\n",
    "point_weight = 1 - gml_weight\n",
    "\n",
    "exp_dir = exp_dir = Path(\"/crimea/graph_augmented_pt/runs/synthetic_reproductions/manifolds_v2\")\n",
    "if not exp_dir.exists(): os.makedirs(exp_dir)\n",
    "    \n",
    "manifold_name, manifold_kwargs = 'plane', plane_kwargs\n",
    "dataset_size                   = 100\n",
    "\n",
    "manifold_dir = exp_dir / manifold_name\n",
    "\n",
    "dataset_dir = manifold_dir / f\"dataset_size_{dataset_size:d}\"\n",
    "if not dataset_dir.exists(): os.makedirs(dataset_dir)\n",
    "        \n",
    "ds_graph_gen_kwargs = dict(\n",
    "    manifold_kwargs         = manifold_kwargs,\n",
    "    seed                    = 1600,\n",
    "    subsample_data          = -1,\n",
    "    num_samples_per_simplex = 75,\n",
    "    dataset_size            = dataset_size,\n",
    "    batch_size              = 16,\n",
    ")\n",
    "        \n",
    "with open(dataset_dir / \"graph_gen_kwargs.json\", mode='w') as f:\n",
    "    f.write(json.dumps(ds_graph_gen_kwargs))\n",
    "\n",
    "graph_gen_kwargs=dict(\n",
    "    source_sentences               = sentences_cp,\n",
    "    source_topic_probabilities     = topics_cp,\n",
    "    simplex_probabilities          = normalized,\n",
    "    simplex_entropies              = entropy,\n",
    "    topic_simplices                = top_3,\n",
    "    source_original_sentence_idxs  = valid_sents_idx,\n",
    "    topic_clique                   = valid_topics,\n",
    "    agg_entropy_per_simplex        = agg_entropy_per_simplex,\n",
    "    manifold_radius_graph_r        = 0.15,\n",
    "    tqdm                           = tqdm,\n",
    "    **ds_graph_gen_kwargs\n",
    ")\n",
    "\n",
    "D = ManifoldNearestNeighborDataset(**graph_gen_kwargs)"
   ]
  },
  {
   "cell_type": "code",
   "execution_count": 8,
   "metadata": {},
   "outputs": [
    {
     "name": "stdout",
     "output_type": "stream",
     "text": [
      "{'Topics': (0.9298571428571428, 0.16669214771201296)}\n"
     ]
    },
    {
     "data": {
      "image/png": "[encoded data removed]",
      "text/plain": [
       "<Figure size 720x360 with 2 Axes>"
      ]
     },
     "metadata": {},
     "output_type": "display_data"
    }
   ],
   "source": [
    "r = 0.15\n",
    "r_dir = dataset_dir / f\"rNN_r_{str(r)}\"\n",
    "D.num_dataloader_workers = 0 # For synthetic data, this is way faster.\n",
    "\n",
    "print(D.homophily_measure()[0])\n",
    "D.display(do_print=False)"
   ]
  },
  {
   "cell_type": "code",
   "execution_count": 9,
   "metadata": {},
   "outputs": [],
   "source": [
    "import pickle\n",
    "def enpickle(obj, filepath):\n",
    "    with open(filepath, mode='wb') as f: return pickle.dump(obj, f, 4)\n",
    "enpickle(D, dataset_dir / 'dataset.pkl')"
   ]
  },
  {
   "cell_type": "markdown",
   "metadata": {},
   "source": [
    "## Runs"
   ]
  },
  {
   "cell_type": "code",
   "execution_count": 10,
   "metadata": {},
   "outputs": [],
   "source": [
    "def run(gml_weight):\n",
    "    output_dir = r_dir / f\"gml_weight_{gml_weight}\"\n",
    "    if output_dir.exists():\n",
    "        if DO_OVERWRITE: shutil.rmtree(output_dir)\n",
    "\n",
    "    accum, run_model, model_metadata, dataset_seeds = run_synthetic(\n",
    "        encoder_hidden_size           = 256,\n",
    "        encoder_num_hidden_layers     = 3,\n",
    "        encoder_num_attention_heads   = 4,\n",
    "        encoder_intermediate_size     = 256,\n",
    "        output_dir                    = output_dir,\n",
    "        synthetic_dataset             = D,\n",
    "        gml_head                      = gml_head,\n",
    "        gml_weight                    = gml_weight,\n",
    "        point_weight                  = point_weight,\n",
    "        print_first                   = 0,\n",
    "        do_plot                       = False,\n",
    "        tqdm                          = lambda *a, **kw: tqdm(*a, **kw, leave=False),\n",
    "        num_epochs                    = 1500,\n",
    "        num_samples                   = 3,\n",
    "        re_gen_data_in_between        = True,\n",
    "        neighbor_prediction_eval_freq = 100,\n",
    "        weights_summary               = None,\n",
    "        do_checkpointing              = False,\n",
    "        progress_bar_refresh_rate     = 0,\n",
    "        do_overwrite                  = DO_OVERWRITE,\n",
    "        eval_batch_size               = 16,\n",
    "    )\n",
    "\n",
    "    res_dict = {k: accum.mean_std(k) for k in accum.run_stats}\n",
    "\n",
    "    return res_dict, run_model[0]"
   ]
  },
  {
   "cell_type": "code",
   "execution_count": null,
   "metadata": {},
   "outputs": [
    {
     "data": {
      "application/vnd.jupyter.widget-view+json": {
       "model_id": "e56395ce86114075b65049217d2a5e35",
       "version_major": 2,
       "version_minor": 0
      },
      "text/plain": [
       "HBox(children=(HTML(value=''), FloatProgress(value=0.0, max=3.0), HTML(value='')))"
      ]
     },
     "metadata": {},
     "output_type": "display_data"
    },
    {
     "data": {
      "application/vnd.jupyter.widget-view+json": {
       "model_id": "",
       "version_major": 2,
       "version_minor": 0
      },
      "text/plain": [
       "HBox(children=(HTML(value='Mapping Simplices'), FloatProgress(value=0.0, max=2.0), HTML(value='')))"
      ]
     },
     "metadata": {},
     "output_type": "display_data"
    },
    {
     "name": "stdout",
     "output_type": "stream",
     "text": [
      "Generating Distances & Graph\n"
     ]
    },
    {
     "name": "stderr",
     "output_type": "stream",
     "text": [
      "/crimea/conda_envs/graph_augmented_pt_2/lib/python3.8/site-packages/pytorch_lightning/utilities/distributed.py:45: UserWarning: The dataloader, train dataloader, does not have many workers which may be a bottleneck. Consider increasing the value of the `num_workers` argument` (try 32 which is the number of cpus on this machine) in the `DataLoader` init to improve performance.\n",
      "  warnings.warn(*args, **kwargs)\n"
     ]
    },
    {
     "data": {
      "application/vnd.jupyter.widget-view+json": {
       "model_id": "",
       "version_major": 2,
       "version_minor": 0
      },
      "text/plain": [
       "HBox(children=(HTML(value='Epoch: 1/1500'), FloatProgress(value=0.0, max=1500.0), HTML(value='')))"
      ]
     },
     "metadata": {},
     "output_type": "display_data"
    },
    {
     "data": {
      "application/vnd.jupyter.widget-view+json": {
       "model_id": "",
       "version_major": 2,
       "version_minor": 0
      },
      "text/plain": [
       "HBox(children=(HTML(value='Mapping Simplices'), FloatProgress(value=0.0, max=2.0), HTML(value='')))"
      ]
     },
     "metadata": {},
     "output_type": "display_data"
    },
    {
     "name": "stdout",
     "output_type": "stream",
     "text": [
      "Generating Distances & Graph\n"
     ]
    },
    {
     "name": "stderr",
     "output_type": "stream",
     "text": [
      "/crimea/conda_envs/graph_augmented_pt_2/lib/python3.8/site-packages/pytorch_lightning/utilities/distributed.py:45: UserWarning: The dataloader, train dataloader, does not have many workers which may be a bottleneck. Consider increasing the value of the `num_workers` argument` (try 32 which is the number of cpus on this machine) in the `DataLoader` init to improve performance.\n",
      "  warnings.warn(*args, **kwargs)\n"
     ]
    },
    {
     "data": {
      "application/vnd.jupyter.widget-view+json": {
       "model_id": "",
       "version_major": 2,
       "version_minor": 0
      },
      "text/plain": [
       "HBox(children=(HTML(value='Epoch: 1/1500'), FloatProgress(value=0.0, max=1500.0), HTML(value='')))"
      ]
     },
     "metadata": {},
     "output_type": "display_data"
    },
    {
     "data": {
      "application/vnd.jupyter.widget-view+json": {
       "model_id": "",
       "version_major": 2,
       "version_minor": 0
      },
      "text/plain": [
       "HBox(children=(HTML(value='Mapping Simplices'), FloatProgress(value=0.0, max=2.0), HTML(value='')))"
      ]
     },
     "metadata": {},
     "output_type": "display_data"
    },
    {
     "name": "stdout",
     "output_type": "stream",
     "text": [
      "Generating Distances & Graph\n"
     ]
    },
    {
     "name": "stderr",
     "output_type": "stream",
     "text": [
      "/crimea/conda_envs/graph_augmented_pt_2/lib/python3.8/site-packages/pytorch_lightning/utilities/distributed.py:45: UserWarning: The dataloader, train dataloader, does not have many workers which may be a bottleneck. Consider increasing the value of the `num_workers` argument` (try 32 which is the number of cpus on this machine) in the `DataLoader` init to improve performance.\n",
      "  warnings.warn(*args, **kwargs)\n"
     ]
    },
    {
     "data": {
      "application/vnd.jupyter.widget-view+json": {
       "model_id": "3f6aae913b5b4456b038b35c808ec7cf",
       "version_major": 2,
       "version_minor": 0
      },
      "text/plain": [
       "HBox(children=(HTML(value='Epoch: 1/1500'), FloatProgress(value=0.0, max=1500.0), HTML(value='')))"
      ]
     },
     "metadata": {},
     "output_type": "display_data"
    }
   ],
   "source": [
    "res_dict, model = run(gml_weight = 0.1)\n",
    "res_dict"
   ]
  },
  {
   "cell_type": "code",
   "execution_count": 14,
   "metadata": {},
   "outputs": [
    {
     "data": {
      "text/plain": [
       "{'labels/Topics Accuracy': (0.9, 0.021602468994692887),\n",
       " 'labels/Topics AUROC': (0.9544495656254788, 0.009345669998380424)}"
      ]
     },
     "execution_count": 14,
     "metadata": {},
     "output_type": "execute_result"
    }
   ],
   "source": [
    "res_dict"
   ]
  },
  {
   "cell_type": "code",
   "execution_count": 21,
   "metadata": {},
   "outputs": [],
   "source": [
    "torch.cuda.empty_cache()"
   ]
  },
  {
   "cell_type": "code",
   "execution_count": 23,
   "metadata": {
    "scrolled": false
   },
   "outputs": [],
   "source": [
    "res_dict, model = run(gml_weight = 0)\n",
    "res_dict"
   ]
  },
  {
   "cell_type": "code",
   "execution_count": 24,
   "metadata": {},
   "outputs": [
    {
     "data": {
      "text/plain": [
       "{'labels/Topics Accuracy': (0.41, 0.06976149845485449),\n",
       " 'labels/Topics AUROC': (0.5324142207573758, 0.03859957222709956)}"
      ]
     },
     "execution_count": 24,
     "metadata": {},
     "output_type": "execute_result"
    }
   ],
   "source": [
    "res_dict"
   ]
  }
 ],
 "metadata": {
  "kernelspec": {
   "display_name": "Python 3",
   "language": "python",
   "name": "python3"
  },
  "language_info": {
   "codemirror_mode": {
    "name": "ipython",
    "version": 3
   },
   "file_extension": ".py",
   "mimetype": "text/x-python",
   "name": "python",
   "nbconvert_exporter": "python",
   "pygments_lexer": "ipython3",
   "version": "3.8.5"
  }
 },
 "nbformat": 4,
 "nbformat_minor": 4
}
